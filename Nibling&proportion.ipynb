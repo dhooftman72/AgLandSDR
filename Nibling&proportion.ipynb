{
 "cells": [
  {
   "cell_type": "code",
   "execution_count": null,
   "metadata": {},
   "outputs": [],
   "source": [
    "# Nibbling of GEAR/JRC rasters\n",
    "Numbers = [\"1\",\"17\",\"33\",\"49\",\"65\",\"81\",\"97\",\"113\",\"129\",\"145\",\"161\",\"177\",\\\n",
    "              \"193\",\"209\",\"225\",\"241\",\"257\",\"273\",\"289\",\"305\",\"321\",\"337\",\"353\"]\n",
    "Folder = \"D:\\Data\\Dropbox\\Lactuca\\Projects\\AgLand SDR\\Data\\ESDAC_JRC\\ESDAC R factor\\R_Fractioned_16Days\\R_JRC_Fraction_Day_\"\n",
    "\n",
    "for x in range(0,len(Numbers)):\n",
    "    arcpy.Delete_management(\"ConRast\")\n",
    "    InFile = Folder + Numbers[x] + \".tif\"\n",
    "    OutFile = Folder + Numbers[x] + \"Nibbled.tif\"\n",
    "    with arcpy.EnvManager(outputCoordinateSystem='PROJCS[\"British_National_Grid\",GEOGCS[\"GCS_OSGB_1936\",DATUM[\"D_OSGB_1936\",SPHEROID[\"Airy_1830\",6377563.396,299.3249646]],PRIMEM[\"Greenwich\",0.0],UNIT[\"Degree\",0.0174532925199433]],PROJECTION[\"Transverse_Mercator\"],PARAMETER[\"False_Easting\",400000.0],PARAMETER[\"False_Northing\",-100000.0],PARAMETER[\"Central_Meridian\",-2.0],PARAMETER[\"Scale_Factor\",0.9996012717],PARAMETER[\"Latitude_Of_Origin\",49.0],UNIT[\"Meter\",1.0]]',\\\n",
    "                          cellSize=\"IsNullRFactorJRC(EU)Nibbled.tif\"):\n",
    "        # note by using cell size to 25x25 meters,extrapolations are based on nearest neighbour resampling, so no scale recalculations are done\n",
    "        # INVest will do the same nearest neighbour but to 50x50meters. NOWHERE, the actual units change.\n",
    "        out_raster = arcpy.sa.Con(\"IsNullRFactorJRC(EU)Nibbled.tif\", 999, InFile, \"Value = 1\"); \n",
    "        out_raster.save(\"ConRast\")\n",
    "    with arcpy.EnvManager(cellSize=\"ConRast\", compression=\"'LZW' 75\"):\n",
    "        out_raster = arcpy.sa.Nibble(InFile, \"ConRast\", \"DATA_ONLY\", \"PROCESS_NODATA\", None); \n",
    "        out_raster.save(OutFile)  "
   ]
  },
  {
   "cell_type": "code",
   "execution_count": 4,
   "metadata": {},
   "outputs": [
    {
     "name": "stdout",
     "output_type": "stream",
     "text": [
      "353\r"
     ]
    }
   ],
   "source": [
    "# calculate proportion avoided erosion per period\n",
    "Numbers = [\"1\",\"17\",\"33\",\"49\",\"65\",\"81\",\"97\",\"113\",\"129\",\"145\",\"161\",\"177\",\\\n",
    "              \"193\",\"209\",\"225\",\"241\",\"257\",\"273\",\"289\",\"305\",\"321\",\"337\",\"353\"]\n",
    "Folder = \"C:\\DataDanny\\AgLand SDR\\Runs\"\n",
    "with arcpy.EnvManager(outputCoordinateSystem='PROJCS[\"British_National_Grid\",GEOGCS[\"GCS_OSGB_1936\",DATUM[\"D_OSGB_1936\",SPHEROID[\"Airy_1830\",6377563.396,299.3249646]],PRIMEM[\"Greenwich\",0.0],UNIT[\"Degree\",0.0174532925199433]],PROJECTION[\"Transverse_Mercator\"],PARAMETER[\"False_Easting\",400000.0],PARAMETER[\"False_Northing\",-100000.0],PARAMETER[\"Central_Meridian\",-2.0],PARAMETER[\"Scale_Factor\",0.9996012717],PARAMETER[\"Latitude_Of_Origin\",49.0],UNIT[\"Meter\",1.0]]'):\n",
    "    with arcpy.EnvManager(overwriteOutput=True):    \n",
    "        for x in range(0,len(Numbers)):\n",
    "            print(Numbers[x], end=\"\\r\") \n",
    "            InFile1 = Folder + \"\\\\usle_JRC_Day\" + Numbers[x] + \".tif\"    \n",
    "            InFile2 = Folder + \"\\\\rkls_JRC_Day\" + Numbers[x] + \".tif\"  \n",
    "            OutFile = Folder + \"\\\\Prop_avoided_\" + Numbers[x] + \".tif\"\n",
    "            out_raster = arcpy.sa.Divide(InFile1, InFile2); \n",
    "            out_raster.save(\"DivideRast\")\n",
    "            out_raster = arcpy.sa.Minus(1, \"DivideRast\"); \n",
    "            out_raster.save(\"Minus_Rast\")\n",
    "            out_raster = arcpy.sa.SetNull(\"LCM2015PlusCrops.tif\", \"Minus_Rast\",\"BHT = '13. Saltwater' Or BHT = '14. Freshwater' Or BHT = '20. Urban' Or BHT = '21. SubUrban'\"); \n",
    "            with arcpy.EnvManager(compression=\"'LZW'\"):\n",
    "                out_raster.save(OutFile)\n",
    "            arcpy.Delete_management(\"DivideRast\")\n",
    "            arcpy.Delete_management(\"Minus_Rast\")"
   ]
  }
 ],
 "metadata": {
  "kernelspec": {
   "display_name": "ArcGISPro",
   "language": "Python",
   "name": "python3"
  },
  "language_info": {
   "file_extension": ".py",
   "name": "python",
   "version": "3"
  }
 },
 "nbformat": 4,
 "nbformat_minor": 2
}
